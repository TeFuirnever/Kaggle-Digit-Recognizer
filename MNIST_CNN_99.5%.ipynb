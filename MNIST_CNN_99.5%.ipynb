{
 "cells": [
  {
   "cell_type": "code",
   "execution_count": 69,
   "metadata": {
    "collapsed": true
   },
   "outputs": [],
   "source": [
    "import pandas as pd\n",
    "import numpy as np\n",
    "import matplotlib.pyplot as plt\n",
    "import matplotlib.image as mpimg\n",
    "import seaborn as sns\n",
    "%matplotlib inline\n",
    "\n",
    "np.random.seed(2)\n",
    "\n",
    "from sklearn.model_selection import train_test_split\n",
    "from sklearn.metrics import confusion_matrix\n",
    "import itertools\n",
    "\n",
    "# 转换为独热编码\n",
    "from keras.utils.np_utils import to_categorical\n",
    "from keras.models import Sequential\n",
    "from keras.layers import Dense, Dropout, Flatten, Conv2D, MaxPool2D, BatchNormalization\n",
    "from keras.optimizers import RMSprop\n",
    "from keras.preprocessing.image import ImageDataGenerator\n",
    "from keras.callbacks import ReduceLROnPlateau\n",
    "\n",
    "# 设置显示样式的参数\n",
    "# http://seaborn.pydata.org/generated/seaborn.set.html\n",
    "sns.set(style='white', context='notebook', palette='deep')"
   ]
  },
  {
   "cell_type": "code",
   "execution_count": 70,
   "metadata": {
    "collapsed": true
   },
   "outputs": [],
   "source": [
    "# import warnings\n",
    "# warnings.filterwarnings('ignore')"
   ]
  },
  {
   "cell_type": "code",
   "execution_count": 71,
   "metadata": {
    "collapsed": true
   },
   "outputs": [],
   "source": [
    "# 加载数据\n",
    "train = pd.read_csv(\"./train.csv\")\n",
    "test = pd.read_csv(\"./test.csv\")"
   ]
  },
  {
   "cell_type": "code",
   "execution_count": 72,
   "metadata": {},
   "outputs": [
    {
     "name": "stdout",
     "output_type": "stream",
     "text": [
      "(42000,)\n",
      "(42000, 784)\n"
     ]
    },
    {
     "data": {
      "text/plain": [
       "1    4684\n",
       "7    4401\n",
       "3    4351\n",
       "9    4188\n",
       "2    4177\n",
       "6    4137\n",
       "0    4132\n",
       "4    4072\n",
       "8    4063\n",
       "5    3795\n",
       "Name: label, dtype: int64"
      ]
     },
     "execution_count": 72,
     "metadata": {},
     "output_type": "execute_result"
    },
    {
     "data": {
      "image/png": "[encoded data removed]",
      "text/plain": [
       "<matplotlib.figure.Figure at 0x24c951d3dd8>"
      ]
     },
     "metadata": {},
     "output_type": "display_data"
    }
   ],
   "source": [
    "# 'label'\n",
    "Y_train = train[\"label\"]\n",
    "print(Y_train.shape)\n",
    "\n",
    "# 删除 'label' 列\n",
    "X_train = train.drop(labels = [\"label\"],axis = 1) \n",
    "print(X_train.shape)\n",
    "\n",
    "# 释放一些空间\n",
    "del train\n",
    "\n",
    "# 使用条形图显示每个分类数据集合中的观测值\n",
    "# https://seaborn.pydata.org/generated/seaborn.countplot.html?highlight=countplot\n",
    "g = sns.countplot(Y_train)\n",
    "\n",
    "# 对训练集中的元素计数\n",
    "# https://pandas.pydata.org/pandas-docs/stable/reference/api/pandas.Series.value_counts.html\n",
    "Y_train.value_counts()"
   ]
  },
  {
   "cell_type": "code",
   "execution_count": 73,
   "metadata": {},
   "outputs": [
    {
     "data": {
      "text/plain": [
       "count       784\n",
       "unique        1\n",
       "top       False\n",
       "freq        784\n",
       "dtype: object"
      ]
     },
     "execution_count": 73,
     "metadata": {},
     "output_type": "execute_result"
    }
   ],
   "source": [
    "# 检查数据\n",
    "X_train.isnull().any().describe()"
   ]
  },
  {
   "cell_type": "code",
   "execution_count": 74,
   "metadata": {},
   "outputs": [
    {
     "data": {
      "text/plain": [
       "count       784\n",
       "unique        1\n",
       "top       False\n",
       "freq        784\n",
       "dtype: object"
      ]
     },
     "execution_count": 74,
     "metadata": {},
     "output_type": "execute_result"
    }
   ],
   "source": [
    "test.isnull().any().describe()"
   ]
  },
  {
   "cell_type": "code",
   "execution_count": 75,
   "metadata": {
    "collapsed": true
   },
   "outputs": [],
   "source": [
    "# 对数据进行归一化，到[0, 1]范围内，减小光照的影响，并可加速CNN收敛速度\n",
    "X_train = X_train / 255.0\n",
    "test = test / 255.0"
   ]
  },
  {
   "cell_type": "code",
   "execution_count": 76,
   "metadata": {
    "collapsed": true
   },
   "outputs": [],
   "source": [
    "# Reshape三维图像(height = 28px, width = 28px , canal = 1)\n",
    "X_train = X_train.values.reshape(-1,28,28,1)\n",
    "test = test.values.reshape(-1,28,28,1)"
   ]
  },
  {
   "cell_type": "code",
   "execution_count": 77,
   "metadata": {
    "collapsed": true
   },
   "outputs": [],
   "source": [
    "# 将标签编码为一个独热向量 (例如: 2 -> [0,0,1,0,0,0,0,0,0,0])\n",
    "Y_train = to_categorical(Y_train, num_classes = 10)"
   ]
  },
  {
   "cell_type": "code",
   "execution_count": 78,
   "metadata": {
    "collapsed": true
   },
   "outputs": [],
   "source": [
    "# 设置随机种子\n",
    "random_seed = 2\n",
    "\n",
    "# 分割出训练集和验证集\n",
    "X_train, X_val, Y_train, Y_val = train_test_split(X_train, Y_train, test_size = 0.1, random_state=random_seed)"
   ]
  },
  {
   "cell_type": "code",
   "execution_count": 79,
   "metadata": {},
   "outputs": [
    {
     "data": {
      "image/png": "[encoded data removed]",
      "text/plain": [
       "<matplotlib.figure.Figure at 0x24ca9d7f0f0>"
      ]
     },
     "metadata": {},
     "output_type": "display_data"
    }
   ],
   "source": [
    "# 一些例子\n",
    "g = plt.imshow(X_train[0][:,:,0])"
   ]
  },
  {
   "cell_type": "code",
   "execution_count": 80,
   "metadata": {},
   "outputs": [
    {
     "name": "stdout",
     "output_type": "stream",
     "text": [
      "Model: \"sequential_5\"\n",
      "_________________________________________________________________\n",
      "Layer (type)                 Output Shape              Param #   \n",
      "=================================================================\n",
      "conv2d_18 (Conv2D)           (None, 28, 28, 32)        832       \n",
      "_________________________________________________________________\n",
      "batch_normalization_20 (Batc (None, 28, 28, 32)        128       \n",
      "_________________________________________________________________\n",
      "conv2d_19 (Conv2D)           (None, 28, 28, 32)        25632     \n",
      "_________________________________________________________________\n",
      "batch_normalization_21 (Batc (None, 28, 28, 32)        128       \n",
      "_________________________________________________________________\n",
      "max_pooling2d_3 (MaxPooling2 (None, 14, 14, 32)        0         \n",
      "_________________________________________________________________\n",
      "conv2d_20 (Conv2D)           (None, 14, 14, 64)        18496     \n",
      "_________________________________________________________________\n",
      "batch_normalization_22 (Batc (None, 14, 14, 64)        256       \n",
      "_________________________________________________________________\n",
      "conv2d_21 (Conv2D)           (None, 14, 14, 64)        36928     \n",
      "_________________________________________________________________\n",
      "batch_normalization_23 (Batc (None, 14, 14, 64)        256       \n",
      "_________________________________________________________________\n",
      "max_pooling2d_4 (MaxPooling2 (None, 7, 7, 64)          0         \n",
      "_________________________________________________________________\n",
      "flatten_4 (Flatten)          (None, 3136)              0         \n",
      "_________________________________________________________________\n",
      "dense_7 (Dense)              (None, 256)               803072    \n",
      "_________________________________________________________________\n",
      "dropout_10 (Dropout)         (None, 256)               0         \n",
      "_________________________________________________________________\n",
      "dense_8 (Dense)              (None, 10)                2570      \n",
      "=================================================================\n",
      "Total params: 888,298\n",
      "Trainable params: 887,914\n",
      "Non-trainable params: 384\n",
      "_________________________________________________________________\n"
     ]
    }
   ],
   "source": [
    "# 设置CNN模型\n",
    "model = Sequential()\n",
    "\n",
    "model.add(Conv2D(filters = 32, kernel_size = (5,5),padding = 'Same', \n",
    "                 activation ='relu', input_shape = (28,28,1)))\n",
    "model.add(BatchNormalization())\n",
    "model.add(Conv2D(filters = 32, kernel_size = (5,5),padding = 'Same', \n",
    "                 activation ='relu'))\n",
    "model.add(BatchNormalization())\n",
    "model.add(MaxPool2D(pool_size=(2,2)))\n",
    "# model.add(Dropout(0.25))\n",
    "\n",
    "\n",
    "model.add(Conv2D(filters = 64, kernel_size = (3,3),padding = 'Same', \n",
    "                 activation ='relu'))\n",
    "model.add(BatchNormalization())\n",
    "model.add(Conv2D(filters = 64, kernel_size = (3,3),padding = 'Same', \n",
    "                 activation ='relu'))\n",
    "model.add(BatchNormalization())\n",
    "model.add(MaxPool2D(pool_size=(2,2), strides=(2,2)))\n",
    "# model.add(Dropout(0.25))\n",
    "\n",
    "\n",
    "model.add(Flatten())\n",
    "model.add(Dense(256, activation = \"relu\"))\n",
    "model.add(Dropout(0.5))\n",
    "model.add(Dense(10, activation = \"softmax\"))\n",
    "\n",
    "# 输出模型各层的参数状况\n",
    "model.summary()"
   ]
  },
  {
   "cell_type": "code",
   "execution_count": 81,
   "metadata": {
    "collapsed": true
   },
   "outputs": [],
   "source": [
    "# 用adam优化器和交叉熵损失进行编译\n",
    "model.compile(optimizer=\"adam\", loss=\"categorical_crossentropy\", metrics=[\"accuracy\"])\n",
    "\n",
    "# 用sgd优化器\n",
    "# model.compile(optimizer=\"sgd\", loss=\"categorical_crossentropy\", metrics=[\"accuracy\"])\n",
    "\n",
    "# 定义优化器\n",
    "# optimizer = RMSprop(lr=0.001, rho=0.9, epsilon=1e-08, decay=0.0)\n",
    "# 编译模型\n",
    "# model.compile(optimizer = optimizer , loss = \"categorical_crossentropy\", metrics=[\"accuracy\"])"
   ]
  },
  {
   "cell_type": "code",
   "execution_count": 82,
   "metadata": {
    "collapsed": true
   },
   "outputs": [],
   "source": [
    "# 设置一个学习率衰减\n",
    "learning_rate_reduction = ReduceLROnPlateau(monitor='val_acc', \n",
    "                                            patience=3, \n",
    "                                            verbose=1, \n",
    "                                            factor=0.5, \n",
    "                                            min_lr=0.00001)"
   ]
  },
  {
   "cell_type": "code",
   "execution_count": 83,
   "metadata": {
    "collapsed": true
   },
   "outputs": [],
   "source": [
    "# 训练轮数，暂时设置为1，可以自己尝试调整\n",
    "epochs = 30\n",
    "# epochs = 30 时可以99.5%\n",
    "# 批大小\n",
    "batch_size = 86"
   ]
  },
  {
   "cell_type": "code",
   "execution_count": 84,
   "metadata": {
    "collapsed": true
   },
   "outputs": [],
   "source": [
    "# 增加数据以防止过拟合\n",
    "datagen = ImageDataGenerator(\n",
    "        featurewise_center=False,  \t\t\t\t# 在数据集上将输入平均值设置为0\n",
    "        samplewise_center=False,  \t\t\t\t# 将每个样本的平均值设置为0\n",
    "        featurewise_std_normalization=False,    # 将输入除以数据集的std\n",
    "        samplewise_std_normalization=False,  \t# 将每个输入除以它的std\n",
    "        zca_whitening=False,  \t\t\t\t\t# 使用ZCA白化\n",
    "        rotation_range=10,  \t\t\t\t\t# 在范围内随机旋转图像（0到180度）\n",
    "        zoom_range = 0.1, \t\t\t\t\t\t# 随机缩放图像\n",
    "        width_shift_range=0.1,  \t\t\t\t# 水平随机移动图像（总宽度的一部分）\n",
    "        height_shift_range=0.1,  \t\t\t\t# 垂直随机移动图像（总高度的一部分）\n",
    "        horizontal_flip=False,  \t\t\t\t# 随机翻转图像\n",
    "        vertical_flip=False)  \t\t\t\t\t# 随机翻转图像\n",
    "\n",
    "\n",
    "datagen.fit(X_train)"
   ]
  },
  {
   "cell_type": "code",
   "execution_count": 85,
   "metadata": {},
   "outputs": [
    {
     "name": "stdout",
     "output_type": "stream",
     "text": [
      "Epoch 1/30\n",
      " - 378s - loss: 0.3523 - accuracy: 0.8947 - val_loss: 0.6066 - val_accuracy: 0.8069\n",
      "Epoch 2/30\n"
     ]
    },
    {
     "name": "stderr",
     "output_type": "stream",
     "text": [
      "C:\\Users\\Administrat\\Anaconda3\\lib\\site-packages\\keras\\callbacks\\callbacks.py:1042: RuntimeWarning: Reduce LR on plateau conditioned on metric `val_acc` which is not available. Available metrics are: val_loss,val_accuracy,loss,accuracy,lr\n",
      "  (self.monitor, ','.join(list(logs.keys()))), RuntimeWarning\n"
     ]
    },
    {
     "name": "stdout",
     "output_type": "stream",
     "text": [
      " - 385s - loss: 0.1344 - accuracy: 0.9612 - val_loss: 0.0394 - val_accuracy: 0.9876\n",
      "Epoch 3/30\n",
      " - 402s - loss: 0.1081 - accuracy: 0.9682 - val_loss: 0.0518 - val_accuracy: 0.9860\n",
      "Epoch 4/30\n",
      " - 405s - loss: 0.0933 - accuracy: 0.9729 - val_loss: 0.0393 - val_accuracy: 0.9871\n",
      "Epoch 5/30\n",
      " - 372s - loss: 0.0811 - accuracy: 0.9769 - val_loss: 0.0344 - val_accuracy: 0.9876\n",
      "Epoch 6/30\n",
      " - 360s - loss: 0.0743 - accuracy: 0.9791 - val_loss: 0.0371 - val_accuracy: 0.9888\n",
      "Epoch 7/30\n",
      " - 359s - loss: 0.0677 - accuracy: 0.9818 - val_loss: 0.0271 - val_accuracy: 0.9919\n",
      "Epoch 8/30\n",
      " - 368s - loss: 0.0615 - accuracy: 0.9829 - val_loss: 0.0363 - val_accuracy: 0.9907\n",
      "Epoch 9/30\n",
      " - 374s - loss: 0.0613 - accuracy: 0.9837 - val_loss: 0.0285 - val_accuracy: 0.9912\n",
      "Epoch 10/30\n",
      " - 360s - loss: 0.0540 - accuracy: 0.9853 - val_loss: 0.0336 - val_accuracy: 0.9914\n",
      "Epoch 11/30\n",
      " - 360s - loss: 0.0507 - accuracy: 0.9854 - val_loss: 0.0407 - val_accuracy: 0.9888\n",
      "Epoch 12/30\n",
      " - 358s - loss: 0.0533 - accuracy: 0.9854 - val_loss: 0.0212 - val_accuracy: 0.9945\n",
      "Epoch 13/30\n",
      " - 354s - loss: 0.0490 - accuracy: 0.9867 - val_loss: 0.0274 - val_accuracy: 0.9919\n",
      "Epoch 14/30\n",
      " - 354s - loss: 0.0489 - accuracy: 0.9864 - val_loss: 0.0224 - val_accuracy: 0.9936\n",
      "Epoch 15/30\n",
      " - 354s - loss: 0.0478 - accuracy: 0.9871 - val_loss: 0.0300 - val_accuracy: 0.9921\n",
      "Epoch 16/30\n",
      " - 354s - loss: 0.0390 - accuracy: 0.9894 - val_loss: 0.0338 - val_accuracy: 0.9921\n",
      "Epoch 17/30\n",
      " - 354s - loss: 0.0400 - accuracy: 0.9892 - val_loss: 0.0363 - val_accuracy: 0.9931\n",
      "Epoch 18/30\n",
      " - 354s - loss: 0.0380 - accuracy: 0.9898 - val_loss: 0.0254 - val_accuracy: 0.9940\n",
      "Epoch 19/30\n",
      " - 355s - loss: 0.0410 - accuracy: 0.9890 - val_loss: 0.0331 - val_accuracy: 0.9914\n",
      "Epoch 20/30\n",
      " - 354s - loss: 0.0382 - accuracy: 0.9901 - val_loss: 0.0297 - val_accuracy: 0.9924\n",
      "Epoch 21/30\n",
      " - 354s - loss: 0.0342 - accuracy: 0.9905 - val_loss: 0.0219 - val_accuracy: 0.9917\n",
      "Epoch 22/30\n",
      " - 354s - loss: 0.0347 - accuracy: 0.9909 - val_loss: 0.0266 - val_accuracy: 0.9917\n",
      "Epoch 23/30\n",
      " - 355s - loss: 0.0336 - accuracy: 0.9909 - val_loss: 0.0219 - val_accuracy: 0.9936\n",
      "Epoch 24/30\n",
      " - 355s - loss: 0.0303 - accuracy: 0.9917 - val_loss: 0.0172 - val_accuracy: 0.9943\n",
      "Epoch 25/30\n",
      " - 355s - loss: 0.0341 - accuracy: 0.9910 - val_loss: 0.0259 - val_accuracy: 0.9938\n",
      "Epoch 26/30\n",
      " - 357s - loss: 0.0296 - accuracy: 0.9915 - val_loss: 0.0236 - val_accuracy: 0.9943\n",
      "Epoch 27/30\n",
      " - 357s - loss: 0.0332 - accuracy: 0.9914 - val_loss: 0.0336 - val_accuracy: 0.9912\n",
      "Epoch 28/30\n",
      " - 358s - loss: 0.0285 - accuracy: 0.9922 - val_loss: 0.0366 - val_accuracy: 0.9931\n",
      "Epoch 29/30\n",
      " - 358s - loss: 0.0311 - accuracy: 0.9919 - val_loss: 0.0252 - val_accuracy: 0.9929\n",
      "Epoch 30/30\n",
      " - 358s - loss: 0.0273 - accuracy: 0.9923 - val_loss: 0.0175 - val_accuracy: 0.9955\n"
     ]
    }
   ],
   "source": [
    "# 拟合模型\n",
    "history = model.fit_generator(datagen.flow(X_train,Y_train, batch_size=batch_size),\n",
    "                              epochs = epochs, validation_data = (X_val,Y_val),\n",
    "                              verbose = 2, steps_per_epoch=X_train.shape[0] // batch_size,\n",
    "                              callbacks=[learning_rate_reduction])"
   ]
  },
  {
   "cell_type": "code",
   "execution_count": 86,
   "metadata": {},
   "outputs": [
    {
     "data": {
      "image/png": "[encoded data removed]",
      "text/plain": [
       "<matplotlib.figure.Figure at 0x24cd1566eb8>"
      ]
     },
     "metadata": {},
     "output_type": "display_data"
    }
   ],
   "source": [
    "# 绘制训练和验证的损失和精度曲线\n",
    "fig, ax = plt.subplots(2,1)\n",
    "ax[0].plot(history.history['loss'], color='b', label=\"Training loss\")\n",
    "ax[0].plot(history.history['val_loss'], color='r', label=\"validation loss\",axes =ax[0])\n",
    "legend = ax[0].legend(loc='best', shadow=True)\n",
    "\n",
    "ax[1].plot(history.history['accuracy'], color='b', label=\"Training accuracy\")\n",
    "ax[1].plot(history.history['val_accuracy'], color='r',label=\"Validation accuracy\")\n",
    "legend = ax[1].legend(loc='best', shadow=True)"
   ]
  },
  {
   "cell_type": "code",
   "execution_count": 87,
   "metadata": {},
   "outputs": [
    {
     "data": {
      "image/png": "[encoded data removed]",
      "text/plain": [
       "<matplotlib.figure.Figure at 0x24cd2008e48>"
      ]
     },
     "metadata": {},
     "output_type": "display_data"
    }
   ],
   "source": [
    "# 看混淆矩阵\n",
    "def plot_confusion_matrix(cm, classes,\n",
    "                          normalize=False,\n",
    "                          title='Confusion matrix',\n",
    "                          cmap=plt.cm.Blues):\n",
    "    \"\"\"\n",
    "    此函数打印并绘制混淆矩阵\n",
    "\t可以通过设置 “normalize=true” 应用归一化\n",
    "    \"\"\"\n",
    "    plt.imshow(cm, interpolation='nearest', cmap=cmap)\n",
    "    plt.title(title)\n",
    "    plt.colorbar()\n",
    "    tick_marks = np.arange(len(classes))\n",
    "    plt.xticks(tick_marks, classes, rotation=45)\n",
    "    plt.yticks(tick_marks, classes)\n",
    "\n",
    "    if normalize:\n",
    "        cm = cm.astype('float') / cm.sum(axis=1)[:, np.newaxis]\n",
    "\n",
    "    thresh = cm.max() / 2.\n",
    "    for i, j in itertools.product(range(cm.shape[0]), range(cm.shape[1])):\n",
    "        plt.text(j, i, cm[i, j],\n",
    "                 horizontalalignment=\"center\",\n",
    "                 color=\"white\" if cm[i, j] > thresh else \"black\")\n",
    "\n",
    "    plt.tight_layout()\n",
    "    plt.ylabel('True label')\n",
    "    plt.xlabel('Predicted label')\n",
    "\n",
    "# 从验证数据集中预测值\n",
    "Y_pred = model.predict(X_val)\n",
    "# 将预测类转换为一个独热向量\n",
    "Y_pred_classes = np.argmax(Y_pred,axis = 1) \n",
    "# 将验证观测转换为一个独热向量\n",
    "Y_true = np.argmax(Y_val,axis = 1) \n",
    "# 计算混淆矩阵\n",
    "confusion_mtx = confusion_matrix(Y_true, Y_pred_classes) \n",
    "# 绘制混淆矩阵\n",
    "plot_confusion_matrix(confusion_mtx, classes = range(10)) "
   ]
  },
  {
   "cell_type": "code",
   "execution_count": 88,
   "metadata": {},
   "outputs": [
    {
     "data": {
      "image/png": "[encoded data removed]",
      "text/plain": [
       "<matplotlib.figure.Figure at 0x24ca9d027b8>"
      ]
     },
     "metadata": {},
     "output_type": "display_data"
    }
   ],
   "source": [
    "# 显示一些错误结果\n",
    "\n",
    "# 错误是预测标签和真实标签之间的区别\n",
    "errors = (Y_pred_classes - Y_true != 0)\n",
    "\n",
    "Y_pred_classes_errors = Y_pred_classes[errors]\n",
    "Y_pred_errors = Y_pred[errors]\n",
    "Y_true_errors = Y_true[errors]\n",
    "X_val_errors = X_val[errors]\n",
    "\n",
    "def display_errors(errors_index,img_errors,pred_errors, obs_errors):\n",
    "    \"\"\"\n",
    "    此函数显示6个图像及其预测和实际标签\n",
    "    \"\"\"\n",
    "    n = 0\n",
    "    nrows = 2\n",
    "    ncols = 3\n",
    "    fig, ax = plt.subplots(nrows,ncols,sharex=True,sharey=True)\n",
    "    for row in range(nrows):\n",
    "        for col in range(ncols):\n",
    "            error = errors_index[n]\n",
    "            ax[row,col].imshow((img_errors[error]).reshape((28,28)))\n",
    "            ax[row,col].set_title(\"Predicted label :{}\\nTrue label :{}\".format(pred_errors[error],obs_errors[error]))\n",
    "            n += 1\n",
    "\n",
    "# 错误预测数的概率\n",
    "Y_pred_errors_prob = np.max(Y_pred_errors,axis = 1)\n",
    "\n",
    "# 误差集中真值的预测概率\n",
    "true_prob_errors = np.diagonal(np.take(Y_pred_errors, Y_true_errors, axis=1))\n",
    "\n",
    "# 预测标签概率与真实标签概率之差\n",
    "delta_pred_true_errors = Y_pred_errors_prob - true_prob_errors\n",
    "\n",
    "# 对预测标签概率与真实标签概率之差的列表进行排序\n",
    "sorted_dela_errors = np.argsort(delta_pred_true_errors)\n",
    "\n",
    "# Top 6错误\n",
    "most_important_errors = sorted_dela_errors[-6:]\n",
    "\n",
    "# 展示Top 6错误\n",
    "display_errors(most_important_errors, X_val_errors, Y_pred_classes_errors, Y_true_errors)"
   ]
  },
  {
   "cell_type": "code",
   "execution_count": 89,
   "metadata": {
    "collapsed": true
   },
   "outputs": [],
   "source": [
    "# 预测结果\n",
    "results = model.predict(test)\n",
    "\n",
    "# 选择最大概率的整数\n",
    "results = np.argmax(results,axis = 1)\n",
    "results = pd.Series(results,name=\"Label\")"
   ]
  },
  {
   "cell_type": "code",
   "execution_count": 90,
   "metadata": {
    "collapsed": true
   },
   "outputs": [],
   "source": [
    "submission = pd.concat([pd.Series(range(1,28001),name = \"ImageId\"),results],axis = 1)\n",
    "\n",
    "# 转换成CSV格式，不保留索引\n",
    "submission.to_csv(\"cnn_mnist_datagen.csv\",index=False)"
   ]
  },
  {
   "cell_type": "code",
   "execution_count": null,
   "metadata": {
    "collapsed": true
   },
   "outputs": [],
   "source": []
  }
 ],
 "metadata": {
  "kernelspec": {
   "display_name": "Python 3",
   "language": "python",
   "name": "python3"
  },
  "language_info": {
   "codemirror_mode": {
    "name": "ipython",
    "version": 3
   },
   "file_extension": ".py",
   "mimetype": "text/x-python",
   "name": "python",
   "nbconvert_exporter": "python",
   "pygments_lexer": "ipython3",
   "version": "3.6.3"
  }
 },
 "nbformat": 4,
 "nbformat_minor": 2
}
